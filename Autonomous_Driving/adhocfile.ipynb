{
 "cells": [
  {
   "cell_type": "code",
   "execution_count": 1,
   "id": "09d398cb",
   "metadata": {},
   "outputs": [
    {
     "data": {
      "text/plain": [
       "'arr=train_y\\n# measures of central tendency\\ndef numpy_describe(arr):\\n    mean = np.mean(arr)\\n    median = np.median(arr)\\n\\n    # measures of dispersion\\n    min = np.amin(arr)\\n    max = np.amax(arr)\\n    range = np.ptp(arr)\\n    variance = np.var(arr)\\n    sd = np.std(arr)\\n\\n    print(\"Descriptive analysis\")\\n    #print(\"Array =\", arr)\\n    print(\"Measures of Central Tendency\")\\n    print(\"Mean =\", mean)\\n    print(\"Median =\", median)\\n    print(\"Measures of Dispersion\")\\n    print(\"Minimum =\", min)\\n    print(\"Maximum =\", max)\\n    print(\"Range =\", range)\\n    print(\"Variance =\", variance)\\n    print(\"Standard Deviation =\", sd)\\nnumpy_describe(train_y)\\nprint(\"&****************&\")\\nnumpy_describe(test_y)\\n\\n\\ndef pandas_desc(arr):\\n    df=pd.DataFrame(arr)\\n    print(df.describe())\\n\\nprint(\"&****************&\")\\npandas_desc(train_y)\\nprint(\"&****************&\")\\npandas_desc(test_y)'"
      ]
     },
     "execution_count": 1,
     "metadata": {},
     "output_type": "execute_result"
    }
   ],
   "source": [
    "'''arr=train_y\n",
    "# measures of central tendency\n",
    "def numpy_describe(arr):\n",
    "    mean = np.mean(arr)\n",
    "    median = np.median(arr)\n",
    "\n",
    "    # measures of dispersion\n",
    "    min = np.amin(arr)\n",
    "    max = np.amax(arr)\n",
    "    range = np.ptp(arr)\n",
    "    variance = np.var(arr)\n",
    "    sd = np.std(arr)\n",
    "\n",
    "    print(\"Descriptive analysis\")\n",
    "    #print(\"Array =\", arr)\n",
    "    print(\"Measures of Central Tendency\")\n",
    "    print(\"Mean =\", mean)\n",
    "    print(\"Median =\", median)\n",
    "    print(\"Measures of Dispersion\")\n",
    "    print(\"Minimum =\", min)\n",
    "    print(\"Maximum =\", max)\n",
    "    print(\"Range =\", range)\n",
    "    print(\"Variance =\", variance)\n",
    "    print(\"Standard Deviation =\", sd)\n",
    "numpy_describe(train_y)\n",
    "print(\"&****************&\")\n",
    "numpy_describe(test_y)\n",
    "\n",
    "\n",
    "def pandas_desc(arr):\n",
    "    df=pd.DataFrame(arr)\n",
    "    print(df.describe())\n",
    "\n",
    "print(\"&****************&\")\n",
    "pandas_desc(train_y)\n",
    "print(\"&****************&\")\n",
    "pandas_desc(test_y)'''"
   ]
  },
  {
   "cell_type": "code",
   "execution_count": null,
   "id": "8cd3d31d",
   "metadata": {},
   "outputs": [],
   "source": [
    "'''plt.hist(train_y, bins=50, density=True, color='green', histtype ='step')\n",
    "plt.hist(test_y, bins=50, density=True, color='red', histtype ='step')\n",
    "plt.show()'''"
   ]
  },
  {
   "cell_type": "code",
   "execution_count": null,
   "id": "bff269f9",
   "metadata": {},
   "outputs": [],
   "source": []
  }
 ],
 "metadata": {
  "kernelspec": {
   "display_name": "Python 3",
   "language": "python",
   "name": "python3"
  },
  "language_info": {
   "codemirror_mode": {
    "name": "ipython",
    "version": 3
   },
   "file_extension": ".py",
   "mimetype": "text/x-python",
   "name": "python",
   "nbconvert_exporter": "python",
   "pygments_lexer": "ipython3",
   "version": "3.8.13"
  }
 },
 "nbformat": 4,
 "nbformat_minor": 5
}
